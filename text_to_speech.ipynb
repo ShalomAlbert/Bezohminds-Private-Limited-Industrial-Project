{
 "cells": [
  {
   "cell_type": "code",
   "execution_count": 1,
   "id": "1faf7c12",
   "metadata": {},
   "outputs": [
    {
     "name": "stdout",
     "output_type": "stream",
     "text": [
      "Defaulting to user installation because normal site-packages is not writeable\n",
      "Collecting pyttsx3\n",
      "  Downloading pyttsx3-2.90-py3-none-any.whl (39 kB)\n",
      "Collecting comtypes (from pyttsx3)\n",
      "  Obtaining dependency information for comtypes from https://files.pythonhosted.org/packages/6e/15/b4a1ea2d5e31052f56283b21089b574f5f05bdc9f27f6afad6c5f47903c9/comtypes-1.2.1-py2.py3-none-any.whl.metadata\n",
      "  Downloading comtypes-1.2.1-py2.py3-none-any.whl.metadata (3.8 kB)\n",
      "Collecting pypiwin32 (from pyttsx3)\n",
      "  Downloading pypiwin32-223-py3-none-any.whl (1.7 kB)\n",
      "Requirement already satisfied: pywin32 in c:\\programdata\\anaconda3\\lib\\site-packages (from pyttsx3) (305.1)\n",
      "Downloading comtypes-1.2.1-py2.py3-none-any.whl (184 kB)\n",
      "   ---------------------------------------- 0.0/184.9 kB ? eta -:--:--\n",
      "   --------------------------------------  184.3/184.9 kB 10.9 MB/s eta 0:00:01\n",
      "   ---------------------------------------- 184.9/184.9 kB 2.8 MB/s eta 0:00:00\n",
      "Installing collected packages: comtypes, pypiwin32, pyttsx3\n",
      "Successfully installed comtypes-1.2.1 pypiwin32-223 pyttsx3-2.90\n",
      "Note: you may need to restart the kernel to use updated packages.\n"
     ]
    }
   ],
   "source": [
    "pip install pyttsx3"
   ]
  },
  {
   "cell_type": "code",
   "execution_count": 9,
   "id": "7db50f24",
   "metadata": {},
   "outputs": [
    {
     "name": "stdout",
     "output_type": "stream",
     "text": [
      "hi i am shalom albert i am currently pursuing my 4th year in an undergraduate degree called B.E. CSE Artificial Intelligence and machine learning \n"
     ]
    }
   ],
   "source": [
    "import pyttsx3\n",
    "text_speech = pyttsx3.init()\n",
    "answer = input()\n",
    "text_speech.say(answer)\n",
    "text_speech.runAndWait()"
   ]
  },
  {
   "cell_type": "code",
   "execution_count": null,
   "id": "88014c32",
   "metadata": {},
   "outputs": [],
   "source": []
  }
 ],
 "metadata": {
  "kernelspec": {
   "display_name": "Python 3 (ipykernel)",
   "language": "python",
   "name": "python3"
  },
  "language_info": {
   "codemirror_mode": {
    "name": "ipython",
    "version": 3
   },
   "file_extension": ".py",
   "mimetype": "text/x-python",
   "name": "python",
   "nbconvert_exporter": "python",
   "pygments_lexer": "ipython3",
   "version": "3.11.5"
  }
 },
 "nbformat": 4,
 "nbformat_minor": 5
}
