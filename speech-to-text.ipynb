{
 "cells": [
  {
   "cell_type": "code",
   "execution_count": 1,
   "id": "e7b2d12f",
   "metadata": {},
   "outputs": [
    {
     "name": "stdout",
     "output_type": "stream",
     "text": [
      "['Microsoft Sound Mapper - Input', 'Microphone (Synaptics SmartAudi', 'Microsoft Sound Mapper - Output', 'Speakers (Synaptics SmartAudio ', 'Primary Sound Capture Driver', 'Microphone (Synaptics SmartAudio HD)', 'Primary Sound Driver', 'Speakers (Synaptics SmartAudio HD)', 'Speakers (Synaptics SmartAudio HD)', 'Microphone (Synaptics SmartAudio HD)', 'Speakers (Conexant HD Audio output)', 'Microphone (Conexant HD Audio capture)']\n"
     ]
    }
   ],
   "source": [
    "import speech_recognition as sr\n",
    "\n",
    "print(sr.Microphone.list_microphone_names())"
   ]
  },
  {
   "cell_type": "code",
   "execution_count": 2,
   "id": "6b67bcdf",
   "metadata": {},
   "outputs": [
    {
     "name": "stdout",
     "output_type": "stream",
     "text": [
      "Listening...\n",
      "hi I am Salman but I am currently pursuing my fourth year in artificial intelligence and machine learning Chidambaram Annamalai University\n"
     ]
    }
   ],
   "source": [
    "def main():\n",
    "    r = sr.Recognizer()\n",
    "    \n",
    "\n",
    "    with sr.Microphone() as source:\n",
    "        r.adjust_for_ambient_noise(source)\n",
    "        print(\"Listening...\")\n",
    "        audio = r.listen(source)\n",
    "\n",
    "        try:\n",
    "            print(r.recognize_google(audio))\n",
    "        except sr.UnknownValueError:\n",
    "            print(\"Sorry, didn’t understand.\")\n",
    "        except sr.RequestError as e:\n",
    "            print(f\"error: {e}\")\n",
    "\n",
    "\n",
    "main()"
   ]
  },
  {
   "cell_type": "code",
   "execution_count": null,
   "id": "fb3d6abc",
   "metadata": {},
   "outputs": [],
   "source": []
  }
 ],
 "metadata": {
  "kernelspec": {
   "display_name": "Python 3 (ipykernel)",
   "language": "python",
   "name": "python3"
  },
  "language_info": {
   "codemirror_mode": {
    "name": "ipython",
    "version": 3
   },
   "file_extension": ".py",
   "mimetype": "text/x-python",
   "name": "python",
   "nbconvert_exporter": "python",
   "pygments_lexer": "ipython3",
   "version": "3.11.5"
  }
 },
 "nbformat": 4,
 "nbformat_minor": 5
}
